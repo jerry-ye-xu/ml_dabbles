{
 "cells": [
  {
   "cell_type": "code",
   "execution_count": 1,
   "metadata": {
    "collapsed": false,
    "scrolled": true
   },
   "outputs": [
    {
     "data": {
      "text/html": [
       "<div>\n",
       "<table border=\"1\" class=\"dataframe\">\n",
       "  <thead>\n",
       "    <tr style=\"text-align: right;\">\n",
       "      <th></th>\n",
       "      <th>satisfaction_level</th>\n",
       "      <th>last_evaluation</th>\n",
       "      <th>number_project</th>\n",
       "      <th>average_monthly_hours</th>\n",
       "      <th>time_spend_company</th>\n",
       "      <th>work_accident</th>\n",
       "      <th>left</th>\n",
       "      <th>promotion_last_5years</th>\n",
       "      <th>department</th>\n",
       "      <th>salary</th>\n",
       "    </tr>\n",
       "  </thead>\n",
       "  <tbody>\n",
       "    <tr>\n",
       "      <th>0</th>\n",
       "      <td>0.38</td>\n",
       "      <td>0.53</td>\n",
       "      <td>2</td>\n",
       "      <td>157</td>\n",
       "      <td>3</td>\n",
       "      <td>0</td>\n",
       "      <td>1</td>\n",
       "      <td>0</td>\n",
       "      <td>sales</td>\n",
       "      <td>low</td>\n",
       "    </tr>\n",
       "    <tr>\n",
       "      <th>1</th>\n",
       "      <td>0.80</td>\n",
       "      <td>0.86</td>\n",
       "      <td>5</td>\n",
       "      <td>262</td>\n",
       "      <td>6</td>\n",
       "      <td>0</td>\n",
       "      <td>1</td>\n",
       "      <td>0</td>\n",
       "      <td>sales</td>\n",
       "      <td>medium</td>\n",
       "    </tr>\n",
       "    <tr>\n",
       "      <th>2</th>\n",
       "      <td>0.11</td>\n",
       "      <td>0.88</td>\n",
       "      <td>7</td>\n",
       "      <td>272</td>\n",
       "      <td>4</td>\n",
       "      <td>0</td>\n",
       "      <td>1</td>\n",
       "      <td>0</td>\n",
       "      <td>sales</td>\n",
       "      <td>medium</td>\n",
       "    </tr>\n",
       "    <tr>\n",
       "      <th>3</th>\n",
       "      <td>0.72</td>\n",
       "      <td>0.87</td>\n",
       "      <td>5</td>\n",
       "      <td>223</td>\n",
       "      <td>5</td>\n",
       "      <td>0</td>\n",
       "      <td>1</td>\n",
       "      <td>0</td>\n",
       "      <td>sales</td>\n",
       "      <td>low</td>\n",
       "    </tr>\n",
       "    <tr>\n",
       "      <th>4</th>\n",
       "      <td>0.37</td>\n",
       "      <td>0.52</td>\n",
       "      <td>2</td>\n",
       "      <td>159</td>\n",
       "      <td>3</td>\n",
       "      <td>0</td>\n",
       "      <td>1</td>\n",
       "      <td>0</td>\n",
       "      <td>sales</td>\n",
       "      <td>low</td>\n",
       "    </tr>\n",
       "  </tbody>\n",
       "</table>\n",
       "</div>"
      ],
      "text/plain": [
       "   satisfaction_level  last_evaluation  number_project  average_monthly_hours  \\\n",
       "0                0.38             0.53               2                    157   \n",
       "1                0.80             0.86               5                    262   \n",
       "2                0.11             0.88               7                    272   \n",
       "3                0.72             0.87               5                    223   \n",
       "4                0.37             0.52               2                    159   \n",
       "\n",
       "   time_spend_company  work_accident  left  promotion_last_5years department  \\\n",
       "0                   3              0     1                      0      sales   \n",
       "1                   6              0     1                      0      sales   \n",
       "2                   4              0     1                      0      sales   \n",
       "3                   5              0     1                      0      sales   \n",
       "4                   3              0     1                      0      sales   \n",
       "\n",
       "   salary  \n",
       "0     low  \n",
       "1  medium  \n",
       "2  medium  \n",
       "3     low  \n",
       "4     low  "
      ]
     },
     "execution_count": 1,
     "metadata": {},
     "output_type": "execute_result"
    }
   ],
   "source": [
    "import pandas as pd\n",
    "from matplotlib import pyplot as plt\n",
    "import seaborn as sns\n",
    "import numpy as np\n",
    "\n",
    "col_names = ['satisfaction_level', 'last_evaluation', 'number_project',\n",
    "             'average_monthly_hours', 'time_spend_company', 'work_accident',\n",
    "             'left', 'promotion_last_5years', 'department', 'salary']\n",
    "\n",
    "hr = pd.read_csv(\"../HR_comma_sep.csv\", header = 0, names = col_names)\n",
    "hr.head(5)"
   ]
  },
  {
   "cell_type": "code",
   "execution_count": 2,
   "metadata": {
    "collapsed": false
   },
   "outputs": [],
   "source": [
    "# hr_x = hr.drop([\"left\", \"department\", \"salary\"], axis = 1)\n",
    "\n",
    "hr_x = hr.drop([\"left\", \"department\"], axis = 1)\n",
    "\n",
    "hr_x.loc[hr_x[\"salary\"] == \"low\", \"salary\"] = 1\n",
    "hr_x.loc[hr_x[\"salary\"] == \"medium\", \"salary\"] = 2\n",
    "hr_x.loc[hr_x[\"salary\"] == \"high\", \"salary\"] = 3\n",
    "# can't use quantitative variables in KNN\n",
    "# utilising salary did not increase the overall testing accuracy (why is this?...)\n",
    "\n",
    "hr_y = hr[\"left\"]"
   ]
  },
  {
   "cell_type": "code",
   "execution_count": 3,
   "metadata": {
    "collapsed": false,
    "scrolled": true
   },
   "outputs": [
    {
     "data": {
      "text/plain": [
       "(14999, 8)"
      ]
     },
     "execution_count": 3,
     "metadata": {},
     "output_type": "execute_result"
    }
   ],
   "source": [
    "hr_x.shape"
   ]
  },
  {
   "cell_type": "code",
   "execution_count": 4,
   "metadata": {
    "collapsed": false,
    "scrolled": true
   },
   "outputs": [],
   "source": [
    "from sklearn.model_selection import train_test_split\n",
    "from sklearn.neighbors import KNeighborsClassifier\n",
    "\n",
    "X_train, X_test, y_train, y_test = train_test_split(hr_x, hr_y, \n",
    "                                                    stratify = hr_y, random_state=0,\n",
    "                                                   test_size = 0.4)\n",
    "\n",
    "x_label = np.arange(1, 21)\n",
    "acc_train = []\n",
    "acc_test = []\n",
    "\n",
    "for i in range(1, 21):\n",
    "    knn = KNeighborsClassifier(n_neighbors = i)\n",
    "    knn.fit(X_train, y_train)\n",
    "    acc_train.append(knn.score(X_train, y_train))\n",
    "    acc_test.append(knn.score(X_test, y_test))"
   ]
  },
  {
   "cell_type": "code",
   "execution_count": 5,
   "metadata": {
    "collapsed": false,
    "scrolled": true
   },
   "outputs": [
    {
     "data": {
      "image/png": "[encoded data removed]",
      "text/plain": [
       "<matplotlib.figure.Figure at 0x110aa7dd8>"
      ]
     },
     "metadata": {},
     "output_type": "display_data"
    }
   ],
   "source": [
    "# sns.jointplot(x = x_label, y = acc_train)\n",
    "# sns.jointplot(x = x_label, y = acc_test)\n",
    "# sns.plt.show()\n",
    "\n",
    "plt.plot(x_label, acc_train, label = \"training\")\n",
    "plt.plot(x_label, acc_test, label = \"testing\")\n",
    "plt.legend()\n",
    "plt.show()"
   ]
  },
  {
   "cell_type": "markdown",
   "metadata": {},
   "source": [
    "#### great! Model for KNN from k = 1, ... , 20 with roughly 95% accuracy. We're done right?"
   ]
  },
  {
   "cell_type": "code",
   "execution_count": null,
   "metadata": {
    "collapsed": true
   },
   "outputs": [],
   "source": []
  },
  {
   "cell_type": "code",
   "execution_count": null,
   "metadata": {
    "collapsed": true
   },
   "outputs": [],
   "source": []
  },
  {
   "cell_type": "code",
   "execution_count": null,
   "metadata": {
    "collapsed": true
   },
   "outputs": [],
   "source": []
  },
  {
   "cell_type": "markdown",
   "metadata": {},
   "source": [
    "# It is not so simple unfortunately"
   ]
  },
  {
   "cell_type": "markdown",
   "metadata": {},
   "source": [
    "First of all you probably want to look at the __null accuracy__:"
   ]
  },
  {
   "cell_type": "code",
   "execution_count": 250,
   "metadata": {
    "collapsed": false
   },
   "outputs": [
    {
     "data": {
      "text/plain": [
       "0.762"
      ]
     },
     "execution_count": 250,
     "metadata": {},
     "output_type": "execute_result"
    }
   ],
   "source": [
    "round(len(hr[hr[\"left\"] == 0])/len(hr), 3)\n",
    "# Generalise the code: hr.left.value_counts()[0]/len(hr)"
   ]
  },
  {
   "cell_type": "markdown",
   "metadata": {},
   "source": [
    "### so 76% is the benchmark for any model... so 95% for a straight-off is not too bad. "
   ]
  },
  {
   "cell_type": "markdown",
   "metadata": {},
   "source": [
    "### We also want to now the types of errors that the model makes. \n",
    "\n",
    "But for now, we need to finetune the model a little bit. 95% is good but I'm sure we can make that a little bit better"
   ]
  },
  {
   "cell_type": "markdown",
   "metadata": {},
   "source": [
    "This algorithm of KNN is based on Euclidean distance. The numerical values from average monthly hours will therefore carry much of the weight as they are the largest, the values of the features should be normalised. \n",
    "\n",
    "The Manhattan formula focuses on sum of absolute deviation\n",
    "\n",
    "With categorical variables, utilise Hamming (which simply compares equality between the features in a single attribute)."
   ]
  },
  {
   "cell_type": "markdown",
   "metadata": {},
   "source": [
    "# Preprocess the Data"
   ]
  },
  {
   "cell_type": "code",
   "execution_count": 251,
   "metadata": {
    "collapsed": false,
    "scrolled": false
   },
   "outputs": [],
   "source": [
    "# normalise data\n",
    "\n",
    "from sklearn import preprocessing\n"
   ]
  },
  {
   "cell_type": "markdown",
   "metadata": {},
   "source": [
    "## Normalising columns separately"
   ]
  },
  {
   "cell_type": "markdown",
   "metadata": {},
   "source": [
    "How does the axis change the normalisation?\n",
    "\n",
    "axis = 1: normalises across each sample\n",
    "axis = 0: normalises across each individual feature. "
   ]
  },
  {
   "cell_type": "code",
   "execution_count": 126,
   "metadata": {
    "collapsed": false
   },
   "outputs": [
    {
     "name": "stderr",
     "output_type": "stream",
     "text": [
      "/Users/Jerry/anaconda/lib/python3.6/site-packages/sklearn/utils/validation.py:395: DeprecationWarning: Passing 1d arrays as data is deprecated in 0.17 and will raise ValueError in 0.19. Reshape your data either using X.reshape(-1, 1) if your data has a single feature or X.reshape(1, -1) if it contains a single sample.\n",
      "  DeprecationWarning)\n",
      "/Users/Jerry/anaconda/lib/python3.6/site-packages/sklearn/utils/validation.py:395: DeprecationWarning: Passing 1d arrays as data is deprecated in 0.17 and will raise ValueError in 0.19. Reshape your data either using X.reshape(-1, 1) if your data has a single feature or X.reshape(1, -1) if it contains a single sample.\n",
      "  DeprecationWarning)\n",
      "/Users/Jerry/anaconda/lib/python3.6/site-packages/sklearn/utils/validation.py:429: DataConversionWarning: Data with input dtype int64 was converted to float64 by the normalize function.\n",
      "  warnings.warn(msg, _DataConversionWarning)\n"
     ]
    }
   ],
   "source": [
    "hr_sat = preprocessing.normalize(hr_x[\"satisfaction_level\"], axis = 1)\n",
    "hr_hours = preprocessing.normalize(hr_x[\"average_monthly_hours\"], axis = 1)"
   ]
  },
  {
   "cell_type": "code",
   "execution_count": 127,
   "metadata": {
    "collapsed": false
   },
   "outputs": [
    {
     "name": "stdout",
     "output_type": "stream",
     "text": [
      "310\n",
      "96\n"
     ]
    }
   ],
   "source": [
    "print(max(hr[\"average_monthly_hours\"]))\n",
    "print(min(hr[\"average_monthly_hours\"]))"
   ]
  },
  {
   "cell_type": "code",
   "execution_count": 128,
   "metadata": {
    "collapsed": false
   },
   "outputs": [
    {
     "name": "stdout",
     "output_type": "stream",
     "text": [
      "1.0\n",
      "0.09\n"
     ]
    }
   ],
   "source": [
    "print(max(hr[\"satisfaction_level\"]))\n",
    "print(min(hr[\"satisfaction_level\"]))"
   ]
  },
  {
   "cell_type": "code",
   "execution_count": 132,
   "metadata": {
    "collapsed": false
   },
   "outputs": [
    {
     "name": "stdout",
     "output_type": "stream",
     "text": [
      "0.0122186728244\n",
      "0.0037838470682\n",
      "---\n",
      "0.0123464009808\n",
      "0.00111117608827\n"
     ]
    }
   ],
   "source": [
    "print(max(hr_hours[0]))\n",
    "print(min(hr_hours[0]))\n",
    "print(\"---\")\n",
    "print(max(hr_sat[0]))\n",
    "print(min(hr_sat[0]))"
   ]
  },
  {
   "cell_type": "markdown",
   "metadata": {},
   "source": [
    "## Normalising the dataframe as a whole"
   ]
  },
  {
   "cell_type": "markdown",
   "metadata": {},
   "source": [
    "##### Why are the resulting normalised values differernt? "
   ]
  },
  {
   "cell_type": "code",
   "execution_count": 183,
   "metadata": {
    "collapsed": false
   },
   "outputs": [
    {
     "name": "stderr",
     "output_type": "stream",
     "text": [
      "/Users/Jerry/anaconda/lib/python3.6/site-packages/sklearn/utils/validation.py:395: DeprecationWarning: Passing 1d arrays as data is deprecated in 0.17 and will raise ValueError in 0.19. Reshape your data either using X.reshape(-1, 1) if your data has a single feature or X.reshape(1, -1) if it contains a single sample.\n",
      "  DeprecationWarning)\n",
      "/Users/Jerry/anaconda/lib/python3.6/site-packages/sklearn/utils/validation.py:429: DataConversionWarning: Data with input dtype int64 was converted to float64 by the normalize function.\n",
      "  warnings.warn(msg, _DataConversionWarning)\n"
     ]
    }
   ],
   "source": [
    "hr_norm = preprocessing.normalize(hr_x[\"average_monthly_hours\"], axis = 1, norm = \"max\")"
   ]
  },
  {
   "cell_type": "code",
   "execution_count": 206,
   "metadata": {
    "collapsed": false
   },
   "outputs": [
    {
     "data": {
      "text/plain": [
       "0     0.38\n",
       "1     0.80\n",
       "2     0.11\n",
       "3     0.72\n",
       "4     0.37\n",
       "5     0.41\n",
       "6     0.10\n",
       "7     0.92\n",
       "8     0.89\n",
       "9     0.42\n",
       "10    0.45\n",
       "Name: satisfaction_level, dtype: float64"
      ]
     },
     "execution_count": 206,
     "metadata": {},
     "output_type": "execute_result"
    }
   ],
   "source": [
    "hr_x.ix[:10, \"satisfaction_level\"]"
   ]
  },
  {
   "cell_type": "code",
   "execution_count": 208,
   "metadata": {
    "collapsed": false,
    "scrolled": true
   },
   "outputs": [
    {
     "name": "stdout",
     "output_type": "stream",
     "text": [
      "[ 0.00469163  0.00587768  0.00408487  0.00618817  0.00646204  0.          0.\n",
      "  0.00475474]\n",
      "[ 0.00987712  0.00953736  0.01021217  0.01032675  0.01292407  0.          0.\n",
      "  0.00950948]\n",
      "[ 0.0013581   0.00975916  0.01429703  0.0107209   0.00861605  0.          0.\n",
      "  0.00950948]\n",
      "[ 0.00888941  0.00964826  0.01021217  0.00878956  0.01077006  0.          0.\n",
      "  0.00475474]\n",
      "[ 0.00456817  0.00576678  0.00408487  0.006267    0.00646204  0.          0.\n",
      "  0.00475474]\n",
      "[ 0.00506202  0.00554498  0.00408487  0.00603051  0.00646204  0.          0.\n",
      "  0.00475474]\n",
      "[ 0.00123464  0.00853926  0.0122546   0.00973552  0.00861605  0.          0.\n",
      "  0.00475474]\n",
      "[ 0.01135869  0.00942646  0.01021217  0.0102085   0.01077006  0.          0.\n",
      "  0.00475474]\n",
      "[ 0.0109883   0.01108995  0.01021217  0.00882898  0.01077006  0.          0.\n",
      "  0.00475474]\n",
      "[ 0.00518549  0.00587768  0.00408487  0.00559694  0.00646204  0.          0.\n",
      "  0.00475474]\n"
     ]
    }
   ],
   "source": [
    "count = 0\n",
    "for index in hr_norm:\n",
    "    print(index)\n",
    "    count += 1\n",
    "    if count == 10:\n",
    "        break"
   ]
  },
  {
   "cell_type": "code",
   "execution_count": 197,
   "metadata": {
    "collapsed": true
   },
   "outputs": [],
   "source": [
    "hr_norm = preprocessing.normalize(hr_x, axis = 0)"
   ]
  },
  {
   "cell_type": "code",
   "execution_count": 198,
   "metadata": {
    "collapsed": false
   },
   "outputs": [
    {
     "name": "stdout",
     "output_type": "stream",
     "text": [
      "[ 0.00469163  0.00587768  0.00408487  0.00618817  0.00646204  0.          0.\n",
      "  0.00475474]\n",
      "[ 0.00987712  0.00953736  0.01021217  0.01032675  0.01292407  0.          0.\n",
      "  0.00950948]\n",
      "[ 0.0013581   0.00975916  0.01429703  0.0107209   0.00861605  0.          0.\n",
      "  0.00950948]\n",
      "[ 0.00888941  0.00964826  0.01021217  0.00878956  0.01077006  0.          0.\n",
      "  0.00475474]\n",
      "[ 0.00456817  0.00576678  0.00408487  0.006267    0.00646204  0.          0.\n",
      "  0.00475474]\n",
      "[ 0.00506202  0.00554498  0.00408487  0.00603051  0.00646204  0.          0.\n",
      "  0.00475474]\n",
      "[ 0.00123464  0.00853926  0.0122546   0.00973552  0.00861605  0.          0.\n",
      "  0.00475474]\n",
      "[ 0.01135869  0.00942646  0.01021217  0.0102085   0.01077006  0.          0.\n",
      "  0.00475474]\n",
      "[ 0.0109883   0.01108995  0.01021217  0.00882898  0.01077006  0.          0.\n",
      "  0.00475474]\n",
      "[ 0.00518549  0.00587768  0.00408487  0.00559694  0.00646204  0.          0.\n",
      "  0.00475474]\n"
     ]
    }
   ],
   "source": [
    "count = 0\n",
    "for index in hr_norm:\n",
    "    print(index)\n",
    "    count += 1\n",
    "    if count == 10:\n",
    "        break"
   ]
  },
  {
   "cell_type": "markdown",
   "metadata": {},
   "source": [
    "here the entire database has been standardised to each individual predictor\n",
    "\n",
    "Let's see if we can get an improvement to the model with this."
   ]
  },
  {
   "cell_type": "code",
   "execution_count": 200,
   "metadata": {
    "collapsed": true
   },
   "outputs": [],
   "source": [
    "X_train, X_test, y_train, y_test = train_test_split(hr_norm, hr_y, \n",
    "                                                    stratify = hr_y, random_state=0,\n",
    "                                                   test_size = 0.4)\n",
    "\n",
    "x_label = np.arange(1, 21)\n",
    "acc_train_norm = []\n",
    "acc_test_norm = []\n",
    "\n",
    "for i in range(1, 21):\n",
    "    knn = KNeighborsClassifier(n_neighbors = i)\n",
    "    knn.fit(X_train, y_train)\n",
    "    \n",
    "    acc_train_norm.append(knn.score(X_train, y_train))\n",
    "    acc_test_norm.append(knn.score(X_test, y_test))"
   ]
  },
  {
   "cell_type": "markdown",
   "metadata": {},
   "source": [
    "### Compare the accuracy before and after normalisation"
   ]
  },
  {
   "cell_type": "code",
   "execution_count": 209,
   "metadata": {
    "collapsed": false
   },
   "outputs": [
    {
     "data": {
      "image/png": "[encoded data removed]",
      "text/plain": [
       "<matplotlib.figure.Figure at 0x112708cf8>"
      ]
     },
     "metadata": {},
     "output_type": "display_data"
    }
   ],
   "source": [
    "plt.plot(x_label, acc_test_norm, \n",
    "         label = \"test_norm\", color = \"b\")\n",
    "plt.plot(x_label, acc_test, \n",
    "         label = \"testing\", color = \"r\")\n",
    "\n",
    "plt.xticks(x_label)\n",
    "plt.legend()\n",
    "plt.show()"
   ]
  },
  {
   "cell_type": "code",
   "execution_count": 210,
   "metadata": {
    "collapsed": false
   },
   "outputs": [
    {
     "name": "stdout",
     "output_type": "stream",
     "text": [
      "For k = 3, the training and testing accuracy are:\n",
      "with no normalisation: 0.971% & 0.948% respectively\n",
      "with normalisation: 0.98% & 0.965% respectively\n"
     ]
    }
   ],
   "source": [
    "print(\"For k = 3, the training and testing accuracy are:\")\n",
    "\n",
    "print(\"with no normalisation: {0}% & {1}% respectively\".format(round(acc_train[2], 3), \n",
    "                                                               round(acc_test[2], 3)))\n",
    "\n",
    "print(\"with normalisation: {0}% & {1}% respectively\".format(round(acc_train_norm[2], 3), \n",
    "                                                            round(acc_test_norm[2], 3)))"
   ]
  },
  {
   "cell_type": "markdown",
   "metadata": {},
   "source": [
    "## K-fold Cross-Validation\n",
    "\n",
    "As of now I'm not sure about one-hot encoding's result. So I will instead attempt a k-fold cross validation on the normalised dataset"
   ]
  },
  {
   "cell_type": "code",
   "execution_count": 217,
   "metadata": {
    "collapsed": false
   },
   "outputs": [],
   "source": [
    "from sklearn.model_selection import cross_val_score\n",
    "\n",
    "knn = KNeighborsClassifier(n_neighbors = 3)\n",
    "hr_norm_kfold = cross_val_score(knn, hr_norm, hr_y, cv=10, scoring = \"accuracy\")"
   ]
  },
  {
   "cell_type": "code",
   "execution_count": 218,
   "metadata": {
    "collapsed": false,
    "scrolled": true
   },
   "outputs": [
    {
     "name": "stdout",
     "output_type": "stream",
     "text": [
      "[ 0.97601599  0.98        0.95333333  0.95333333  0.94733333  0.964\n",
      "  0.98266667  0.972       0.99266177  0.98465644]\n"
     ]
    },
    {
     "data": {
      "text/plain": [
       "0.97060008681485344"
      ]
     },
     "execution_count": 218,
     "metadata": {},
     "output_type": "execute_result"
    }
   ],
   "source": [
    "print(hr_norm_kfold)\n",
    "hr_norm_kfold.mean()"
   ]
  },
  {
   "cell_type": "markdown",
   "metadata": {},
   "source": [
    "The average is similar to the 96.5% acheived above"
   ]
  },
  {
   "cell_type": "code",
   "execution_count": 220,
   "metadata": {
    "collapsed": false
   },
   "outputs": [],
   "source": [
    "x_label = np.arange(1, 21)\n",
    "acc_kfold_avgs = []\n",
    "\n",
    "for i in range(1, 21):\n",
    "    knn = KNeighborsClassifier(n_neighbors = i)\n",
    "    acc_kfold_avgs.append(cross_val_score(knn, hr_norm, hr_y, cv = 10, scoring = \"accuracy\").mean())"
   ]
  },
  {
   "cell_type": "code",
   "execution_count": 223,
   "metadata": {
    "collapsed": false
   },
   "outputs": [
    {
     "data": {
      "image/png": "[encoded data removed]",
      "text/plain": [
       "<matplotlib.figure.Figure at 0x111333fd0>"
      ]
     },
     "metadata": {},
     "output_type": "display_data"
    }
   ],
   "source": [
    "plt.plot(x_label, acc_kfold_avgs)\n",
    "plt.xticks(x_label)\n",
    "plt.xlabel(\"k nearest neighbours\")\n",
    "plt.ylabel(\"accuracy\")\n",
    "plt.show()"
   ]
  },
  {
   "cell_type": "markdown",
   "metadata": {},
   "source": [
    "__NEXT STEPS__\n",
    "\n",
    "1) Normalise data, decide whether or not to use one hot encoding\n",
    "\n",
    "2) Try k-fold cross validation using GridSearch\n",
    "\n",
    "3) Try running a logistic regression for the problem. <br>  \n",
    "\n",
    "    i) Setting thresholds for logistic regression\n",
    "\n",
    "4) Look at Confusion Matrix for Classifier\n",
    "\n"
   ]
  },
  {
   "cell_type": "code",
   "execution_count": null,
   "metadata": {
    "collapsed": true
   },
   "outputs": [],
   "source": []
  },
  {
   "cell_type": "code",
   "execution_count": null,
   "metadata": {
    "collapsed": true
   },
   "outputs": [],
   "source": []
  },
  {
   "cell_type": "code",
   "execution_count": null,
   "metadata": {
    "collapsed": true
   },
   "outputs": [],
   "source": []
  },
  {
   "cell_type": "markdown",
   "metadata": {},
   "source": [
    "## One-hot encoding of Quantitative Variables"
   ]
  },
  {
   "cell_type": "code",
   "execution_count": 77,
   "metadata": {
    "collapsed": false
   },
   "outputs": [
    {
     "name": "stdout",
     "output_type": "stream",
     "text": [
      "(14999, 21)\n",
      "Index(['satisfaction_level', 'last_evaluation', 'number_project',\n",
      "       'average_monthly_hours', 'time_spend_company', 'work_accident', 'left',\n",
      "       'promotion_last_5years', 'department_IT', 'department_RandD',\n",
      "       'department_accounting', 'department_hr', 'department_management',\n",
      "       'department_marketing', 'department_product_mng', 'department_sales',\n",
      "       'department_support', 'department_technical', 'salary_high',\n",
      "       'salary_low', 'salary_medium'],\n",
      "      dtype='object')\n"
     ]
    }
   ],
   "source": [
    "hr_onehot = pd.get_dummies(hr)\n",
    "print(hr_onehot.shape)\n",
    "print(hr_onehot.columns)"
   ]
  },
  {
   "cell_type": "markdown",
   "metadata": {},
   "source": [
    "On top of this, we want to normalise the quantitative variables as well"
   ]
  },
  {
   "cell_type": "code",
   "execution_count": 76,
   "metadata": {
    "collapsed": false,
    "scrolled": true
   },
   "outputs": [
    {
     "data": {
      "text/plain": [
       "array([[ 0.00241958,  0.00337467,  0.01273461, ...,  0.        ,\n",
       "         0.00636731,  0.        ],\n",
       "       [ 0.00305198,  0.00328088,  0.01907489, ...,  0.        ,\n",
       "         0.        ,  0.00381498],\n",
       "       [ 0.00040422,  0.00323379,  0.02572334, ...,  0.        ,\n",
       "         0.        ,  0.00367476],\n",
       "       ..., \n",
       "       [ 0.00258637,  0.00370481,  0.0139804 , ...,  0.        ,\n",
       "         0.0069902 ,  0.        ],\n",
       "       [ 0.00039272,  0.00342735,  0.02142093, ...,  0.        ,\n",
       "         0.00357016,  0.        ],\n",
       "       [ 0.002341  ,  0.00329006,  0.01265407, ...,  0.        ,\n",
       "         0.00632704,  0.        ]])"
      ]
     },
     "execution_count": 76,
     "metadata": {},
     "output_type": "execute_result"
    }
   ],
   "source": [
    "hr_norm"
   ]
  },
  {
   "cell_type": "code",
   "execution_count": 56,
   "metadata": {
    "collapsed": false
   },
   "outputs": [],
   "source": [
    "hr_norm = preprocessing.normalize(hr_onehot, axis = 1)"
   ]
  },
  {
   "cell_type": "code",
   "execution_count": 79,
   "metadata": {
    "collapsed": false
   },
   "outputs": [
    {
     "data": {
      "text/plain": [
       "array([[ 0.00469163,  0.00587768,  0.00408487, ...,  0.        ,\n",
       "         0.01169131,  0.        ],\n",
       "       [ 0.00987712,  0.00953736,  0.01021217, ...,  0.        ,\n",
       "         0.        ,  0.01245532],\n",
       "       [ 0.0013581 ,  0.00975916,  0.01429703, ...,  0.        ,\n",
       "         0.        ,  0.01245532],\n",
       "       ..., \n",
       "       [ 0.00456817,  0.00587768,  0.00408487, ...,  0.        ,\n",
       "         0.01169131,  0.        ],\n",
       "       [ 0.0013581 ,  0.01064635,  0.0122546 , ...,  0.        ,\n",
       "         0.01169131,  0.        ],\n",
       "       [ 0.00456817,  0.00576678,  0.00408487, ...,  0.        ,\n",
       "         0.01169131,  0.        ]])"
      ]
     },
     "execution_count": 79,
     "metadata": {},
     "output_type": "execute_result"
    }
   ],
   "source": [
    "hr_norm_zero = preprocessing.normalize(hr_onehot, axis = 0)\n",
    "hr_norm_zero"
   ]
  },
  {
   "cell_type": "code",
   "execution_count": 57,
   "metadata": {
    "collapsed": true
   },
   "outputs": [],
   "source": [
    "X_train, X_test, y_train, y_test = train_test_split(hr_norm, hr_y, \n",
    "                                                    stratify = hr_y, random_state=0,\n",
    "                                                   test_size = 0.4)\n",
    "\n",
    "x_label = np.arange(1, 21)\n",
    "acc_train_norm_onehot = []\n",
    "acc_test_norm_onehot = []\n",
    "\n",
    "\n",
    "for i in range(1, 5):\n",
    "    knn.fit(X_train, y_train)\n",
    "    \n",
    "    acc_train_norm_onehot.append(knn.score(X_train, y_train))\n",
    "    acc_test_norm_onehot.append(knn.score(X_test, y_test))"
   ]
  },
  {
   "cell_type": "code",
   "execution_count": 75,
   "metadata": {
    "collapsed": false
   },
   "outputs": [
    {
     "data": {
      "image/png": "[encoded data removed]",
      "text/plain": [
       "<matplotlib.figure.Figure at 0x1128811d0>"
      ]
     },
     "metadata": {},
     "output_type": "display_data"
    }
   ],
   "source": [
    "plt.plot([1,2,3,4], acc_train_norm_onehot, \n",
    "         label = \"norm_testing\", color = \"b\")\n",
    "plt.plot([1,2,3,4], acc_test_norm_onehot, \n",
    "         label = \"testing\", color = \"r\")\n",
    "\n",
    "plt.xticks([1, 2, 3, 4])\n",
    "plt.legend()\n",
    "plt.show()"
   ]
  },
  {
   "cell_type": "code",
   "execution_count": null,
   "metadata": {
    "collapsed": true
   },
   "outputs": [],
   "source": []
  },
  {
   "cell_type": "code",
   "execution_count": null,
   "metadata": {
    "collapsed": true
   },
   "outputs": [],
   "source": []
  },
  {
   "cell_type": "code",
   "execution_count": null,
   "metadata": {
    "collapsed": true
   },
   "outputs": [],
   "source": []
  },
  {
   "cell_type": "markdown",
   "metadata": {},
   "source": [
    "## Logistic Regression for the Problem"
   ]
  },
  {
   "cell_type": "code",
   "execution_count": 252,
   "metadata": {
    "collapsed": true
   },
   "outputs": [],
   "source": [
    "from sklearn.neighbors import regression"
   ]
  },
  {
   "cell_type": "code",
   "execution_count": null,
   "metadata": {
    "collapsed": true
   },
   "outputs": [],
   "source": []
  }
 ],
 "metadata": {
  "kernelspec": {
   "display_name": "Python 3",
   "language": "python",
   "name": "python3"
  },
  "language_info": {
   "codemirror_mode": {
    "name": "ipython",
    "version": 3
   },
   "file_extension": ".py",
   "mimetype": "text/x-python",
   "name": "python",
   "nbconvert_exporter": "python",
   "pygments_lexer": "ipython3",
   "version": "3.6.0"
  }
 },
 "nbformat": 4,
 "nbformat_minor": 2
}
