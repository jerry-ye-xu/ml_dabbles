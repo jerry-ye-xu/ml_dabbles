{
 "cells": [
  {
   "cell_type": "code",
   "execution_count": 1,
   "metadata": {
    "slideshow": {
     "slide_type": "skip"
    }
   },
   "outputs": [
    {
     "data": {
      "text/html": [
       "<link rel=\"stylesheet\" type=\"text/css\" href=\"//fonts.googleapis.com/css?family=Quicksand:300\" />\n",
       "<link rel=\"stylesheet\" type=\"text/css\" href=\"custom.css\">"
      ],
      "text/plain": [
       "<IPython.core.display.HTML object>"
      ]
     },
     "metadata": {},
     "output_type": "display_data"
    }
   ],
   "source": [
    "%%HTML\n",
    "<link rel=\"stylesheet\" type=\"text/css\" href=\"//fonts.googleapis.com/css?family=Quicksand:300\" />\n",
    "<link rel=\"stylesheet\" type=\"text/css\" href=\"custom.css\">"
   ]
  },
  {
   "cell_type": "markdown",
   "metadata": {
    "slideshow": {
     "slide_type": "slide"
    }
   },
   "source": [
    "# Hands-on introduction to Deep Learning\n",
    "with Keras and Tensorflow\n",
    "\n",
    "- Rodrigo Agundez\n",
    "- Amsterdam @ Booking.com\n",
    "- Friday May 25th, 2018\n",
    "\n",
    "![footer_logo](images/logo.png)"
   ]
  },
  {
   "cell_type": "markdown",
   "metadata": {
    "slideshow": {
     "slide_type": "slide"
    }
   },
   "source": [
    "# Hands-on introduction to Deep Learning\n",
    "\n",
    "### About me\n",
    "- Mexican\n",
    "- Data Maverick @ GoDataDriven\n",
    "- Deep learning trainer (bol.com, Delhaize, AH, )\n",
    "- Deep learning enthusiast (blog posts, Spark + AI summit, Big Data Expo)\n",
    "\n",
    "Twitter handle: [@rragundez](https://twitter.com/rragundez)\n",
    "\n",
    "\n",
    "![footer_logo](images/logo.png)"
   ]
  },
  {
   "cell_type": "markdown",
   "metadata": {
    "slideshow": {
     "slide_type": "slide"
    }
   },
   "source": [
    "# Hands-on introduction to Deep Learning\n",
    "with Keras and Tensorflow\n",
    "\n",
    "### This tutorial is for people that\n",
    "- Have experience in ML.\n",
    "- Have experience with the PyData stack.\n",
    "- Have no hands-on experience with DL.\n",
    "\n",
    "![footer_logo](images/logo.png)"
   ]
  },
  {
   "cell_type": "markdown",
   "metadata": {
    "slideshow": {
     "slide_type": "slide"
    }
   },
   "source": [
    "# Hands-on introduction to Deep Learning\n",
    "with Keras and Tensorflow\n",
    "\n",
    "### Goals\n",
    "- Learn the basic theory about deep learning.\n",
    "- Learn the Keras sequential API concepts.\n",
    "- Learn how to build a model in Keras.\n",
    "- Learn to implement transfer learning in Keras.\n",
    "\n",
    "![footer_logo](images/logo.png)"
   ]
  },
  {
   "cell_type": "markdown",
   "metadata": {
    "slideshow": {
     "slide_type": "slide"
    }
   },
   "source": [
    "# Schedule\n",
    "\n",
    "|       |                      \t                                |              |\n",
    "|-------|:------------------------------------------------------|:-------------|\n",
    "| 9.00\t| Course Introduction                                   |              |\n",
    "| 9.05\t| [Deep learning basics](01_deep_learning_basics.ipynb) | Theory       |\n",
    "| 9.20\t| [Deep learning tools](02_deep_learning_tools.ipynb) | Theory       |\n",
    "| 9.25  | [Basics of Keras sequential API](03_basics_of_keras_sequential_api.ipynb)                                      | Hands-on |\n",
    "| 9.45  | [Build your first convolutional neural network](04_build_your_first_convolutional_neural_network.ipynb)        | Hands-on |\n",
    "| 10.15 | [Transfer learning for image classification](05_transfer_learning_for_image_classification.ipynb)          | Hands-on |\n",
    "\n",
    "\n",
    "![footer_logo](images/logo.png)"
   ]
  },
  {
   "cell_type": "code",
   "execution_count": null,
   "metadata": {},
   "outputs": [],
   "source": []
  }
 ],
 "metadata": {
  "celltoolbar": "Slideshow",
  "kernelspec": {
   "display_name": "Python [conda env:pydata]",
   "language": "python",
   "name": "conda-env-pydata-py"
  },
  "language_info": {
   "codemirror_mode": {
    "name": "ipython",
    "version": 3
   },
   "file_extension": ".py",
   "mimetype": "text/x-python",
   "name": "python",
   "nbconvert_exporter": "python",
   "pygments_lexer": "ipython3",
   "version": "3.6.5"
  }
 },
 "nbformat": 4,
 "nbformat_minor": 2
}
